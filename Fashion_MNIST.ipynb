{
  "nbformat": 4,
  "nbformat_minor": 0,
  "metadata": {
    "kernelspec": {
      "display_name": "Python 3",
      "language": "python",
      "name": "python3"
    },
    "language_info": {
      "codemirror_mode": {
        "name": "ipython",
        "version": 3
      },
      "file_extension": ".py",
      "mimetype": "text/x-python",
      "name": "python",
      "nbconvert_exporter": "python",
      "pygments_lexer": "ipython3",
      "version": "3.6.5"
    },
    "varInspector": {
      "cols": {
        "lenName": 16,
        "lenType": 16,
        "lenVar": 40
      },
      "kernels_config": {
        "python": {
          "delete_cmd_postfix": "",
          "delete_cmd_prefix": "del ",
          "library": "var_list.py",
          "varRefreshCmd": "print(var_dic_list())"
        },
        "r": {
          "delete_cmd_postfix": ") ",
          "delete_cmd_prefix": "rm(",
          "library": "var_list.r",
          "varRefreshCmd": "cat(var_dic_list()) "
        }
      },
      "types_to_exclude": [
        "module",
        "function",
        "builtin_function_or_method",
        "instance",
        "_Feature"
      ],
      "window_display": false
    },
    "colab": {
      "name": "Fashion MNIST.ipynb",
      "provenance": [],
      "toc_visible": true,
      "include_colab_link": true
    }
  },
  "cells": [
    {
      "cell_type": "markdown",
      "metadata": {
        "id": "view-in-github",
        "colab_type": "text"
      },
      "source": [
        "<a href=\"https://colab.research.google.com/github/yashguptaab99/Fashion-Class-Classifier/blob/master/Fashion_MNIST.ipynb\" target=\"_parent\"><img src=\"https://colab.research.google.com/assets/colab-badge.svg\" alt=\"Open In Colab\"/></a>"
      ]
    },
    {
      "cell_type": "markdown",
      "metadata": {
        "id": "eO1tZbSexkAT",
        "colab_type": "text"
      },
      "source": [
        "# CASE STUDY: FASHION CLASS CLASSIFICATION \n",
        "# Yash Gupta"
      ]
    },
    {
      "cell_type": "markdown",
      "metadata": {
        "id": "NZXGNFDsxkAY",
        "colab_type": "text"
      },
      "source": [
        "# STEP #1: PROBLEM STATEMENT AND BUSINESS CASE"
      ]
    },
    {
      "cell_type": "markdown",
      "metadata": {
        "id": "a1sKzIiJxkAb",
        "colab_type": "text"
      },
      "source": [
        "Fashion training set consists of 70,000 images divided into 60,000 training and 10,000 testing samples. Dataset sample consists of 28x28 grayscale image, associated with a label from 10 classes. \n",
        "\n",
        "The 10 classes are as follows:  \n",
        "0 => T-shirt/top  \n",
        "1 => Trouser  \n",
        "2 => Pullover  \n",
        "3 => Dress  \n",
        "4 => Coat  \n",
        "5 => Sandal  \n",
        "6 => Shirt  \n",
        "7 => Sneaker  \n",
        "8 => Bag  \n",
        "9 => Ankle boot  \n",
        "\n",
        "Each image is 28 pixels in height and 28 pixels in width, for a total of 784 pixels in total. Each pixel has a single pixel-value associated with it, indicating the lightness or darkness of that pixel, with higher numbers meaning darker. This pixel-value is an integer between 0 and 255. "
      ]
    },
    {
      "cell_type": "markdown",
      "metadata": {
        "id": "7IOcA5koxkAf",
        "colab_type": "text"
      },
      "source": [
        "# STEP #2: IMPORTING DATA"
      ]
    },
    {
      "cell_type": "markdown",
      "metadata": {
        "id": "_gfRbaWZxkBI",
        "colab_type": "text"
      },
      "source": [
        "# STEP #3: VISUALIZATION OF THE DATASET  "
      ]
    }
  ]
}